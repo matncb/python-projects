{
 "cells": [
  {
   "cell_type": "code",
   "execution_count": 1,
   "metadata": {},
   "outputs": [],
   "source": [
    "import itertools as its"
   ]
  },
  {
   "cell_type": "code",
   "execution_count": 2,
   "metadata": {},
   "outputs": [],
   "source": [
    "caracs = '1234567890abcdefghijklmnopqrstuvwxyz!@#$%^&()-+=_'\n",
    "num = 2\n",
    "is_max = True #usa tbm senhas com valores menores q num"
   ]
  },
  {
   "cell_type": "code",
   "execution_count": 3,
   "metadata": {},
   "outputs": [],
   "source": [
    "for i in range(num):\n",
    "    r = its.product(caracs, repeat = num-i)\n",
    "    dic = open(\"pwd.txt\", \"a\")\n",
    "\n",
    "    for i in r:\n",
    "        dic.write(\"\".join(i))\n",
    "        dic.write(\"\\n\")\n",
    "\n",
    "    if not is_max:\n",
    "        break\n",
    "\n",
    "dic.close()"
   ]
  }
 ],
 "metadata": {
  "kernelspec": {
   "display_name": "Python 3",
   "language": "python",
   "name": "python3"
  },
  "language_info": {
   "codemirror_mode": {
    "name": "ipython",
    "version": 3
   },
   "file_extension": ".py",
   "mimetype": "text/x-python",
   "name": "python",
   "nbconvert_exporter": "python",
   "pygments_lexer": "ipython3",
   "version": "3.8.10 (tags/v3.8.10:3d8993a, May  3 2021, 11:48:03) [MSC v.1928 64 bit (AMD64)]"
  },
  "orig_nbformat": 4,
  "vscode": {
   "interpreter": {
    "hash": "61cd7254479848ce9bae052e5520b020024ace1352f961bf0a9a5af526a14ef2"
   }
  }
 },
 "nbformat": 4,
 "nbformat_minor": 2
}
